{
 "cells": [
  {
   "cell_type": "code",
   "execution_count": 1,
   "id": "right-orbit",
   "metadata": {},
   "outputs": [],
   "source": [
    "import pandas as pd\n",
    "import geopandas\n",
    "import numpy as np\n",
    "import matplotlib.pyplot as plt\n",
    "import seaborn as sns"
   ]
  },
  {
   "cell_type": "markdown",
   "id": "amber-characteristic",
   "metadata": {},
   "source": [
    "## *Preparing data*"
   ]
  },
  {
   "cell_type": "code",
   "execution_count": 2,
   "id": "above-greeting",
   "metadata": {},
   "outputs": [],
   "source": [
    "curlews = pd.read_csv('Curlews.csv')\n",
    "eiders = pd.read_csv('Spectacled_eiders.csv')\n",
    "whinchats = pd.read_csv('Whinchats_Saxicola.csv')\n",
    "long_tailed_ducks = pd.read_csv('Long_tailed_ducks.csv')\n",
    "mallards = pd.read_csv('Mallards.csv')"
   ]
  },
  {
   "cell_type": "code",
   "execution_count": 3,
   "id": "chubby-champagne",
   "metadata": {},
   "outputs": [],
   "source": [
    "curlews = curlews.iloc[:50000, [0, 2, 3, 4, 8]]"
   ]
  },
  {
   "cell_type": "code",
   "execution_count": 4,
   "id": "african-market",
   "metadata": {},
   "outputs": [],
   "source": [
    "eiders = eiders.iloc[:, [0, 2, 3, 4, -4]]"
   ]
  },
  {
   "cell_type": "code",
   "execution_count": 5,
   "id": "cellular-debate",
   "metadata": {},
   "outputs": [],
   "source": [
    "whinchats = whinchats.iloc[:, [0, 2, 3, 4, -4]]"
   ]
  },
  {
   "cell_type": "code",
   "execution_count": 6,
   "id": "vital-appointment",
   "metadata": {},
   "outputs": [],
   "source": [
    "ducks = long_tailed_ducks.iloc[:, [0, 2, 3, 4, -4]]"
   ]
  },
  {
   "cell_type": "code",
   "execution_count": 7,
   "id": "superb-kingston",
   "metadata": {},
   "outputs": [],
   "source": [
    "mallards = mallards.iloc[:, [0, 1, 2, 3, 5]]"
   ]
  },
  {
   "cell_type": "code",
   "execution_count": 8,
   "id": "chubby-baseline",
   "metadata": {},
   "outputs": [],
   "source": [
    "df = curlews.append(eiders, ignore_index = True)"
   ]
  },
  {
   "cell_type": "code",
   "execution_count": 9,
   "id": "sexual-edmonton",
   "metadata": {},
   "outputs": [],
   "source": [
    "df = df.append(whinchats, ignore_index = True)"
   ]
  },
  {
   "cell_type": "code",
   "execution_count": 10,
   "id": "brown-bumper",
   "metadata": {},
   "outputs": [],
   "source": [
    "df = df.append(ducks, ignore_index = True)"
   ]
  },
  {
   "cell_type": "code",
   "execution_count": 11,
   "id": "instructional-valley",
   "metadata": {},
   "outputs": [],
   "source": [
    "df = df.append(mallards, ignore_index = True)"
   ]
  },
  {
   "cell_type": "code",
   "execution_count": 12,
   "id": "caroline-solid",
   "metadata": {},
   "outputs": [],
   "source": [
    "df.fillna(method='backfill', inplace = True)"
   ]
  },
  {
   "cell_type": "code",
   "execution_count": 13,
   "id": "beginning-background",
   "metadata": {},
   "outputs": [],
   "source": [
    "df['animal_type'] = df['individual-taxon-canonical-name']\n",
    "df.drop('individual-taxon-canonical-name', axis = 1, inplace = True)\n",
    "df['longitude'] = df['location-long']\n",
    "df.drop('location-long', axis = 1, inplace = True)\n",
    "df['latitude'] = df['location-lat']\n",
    "df.drop('location-lat', axis = 1, inplace = True)"
   ]
  },
  {
   "cell_type": "code",
   "execution_count": 14,
   "id": "great-senior",
   "metadata": {},
   "outputs": [
    {
     "data": {
      "text/plain": [
       "event-id       0\n",
       "timestamp      0\n",
       "animal_type    0\n",
       "longitude      0\n",
       "latitude       0\n",
       "dtype: int64"
      ]
     },
     "execution_count": 14,
     "metadata": {},
     "output_type": "execute_result"
    }
   ],
   "source": [
    "df.isnull().sum()"
   ]
  },
  {
   "cell_type": "code",
   "execution_count": 15,
   "id": "desirable-album",
   "metadata": {},
   "outputs": [],
   "source": [
    "df.to_csv('data.csv')"
   ]
  },
  {
   "cell_type": "code",
   "execution_count": 16,
   "id": "divided-posting",
   "metadata": {},
   "outputs": [
    {
     "data": {
      "text/html": [
       "<div>\n",
       "<style scoped>\n",
       "    .dataframe tbody tr th:only-of-type {\n",
       "        vertical-align: middle;\n",
       "    }\n",
       "\n",
       "    .dataframe tbody tr th {\n",
       "        vertical-align: top;\n",
       "    }\n",
       "\n",
       "    .dataframe thead th {\n",
       "        text-align: right;\n",
       "    }\n",
       "</style>\n",
       "<table border=\"1\" class=\"dataframe\">\n",
       "  <thead>\n",
       "    <tr style=\"text-align: right;\">\n",
       "      <th></th>\n",
       "      <th>event-id</th>\n",
       "      <th>timestamp</th>\n",
       "      <th>animal_type</th>\n",
       "      <th>longitude</th>\n",
       "      <th>latitude</th>\n",
       "    </tr>\n",
       "  </thead>\n",
       "  <tbody>\n",
       "    <tr>\n",
       "      <th>0</th>\n",
       "      <td>17824007515</td>\n",
       "      <td>2014-04-01 00:00:00.000</td>\n",
       "      <td>Numenius arquata</td>\n",
       "      <td>8.718917</td>\n",
       "      <td>54.689633</td>\n",
       "    </tr>\n",
       "    <tr>\n",
       "      <th>1</th>\n",
       "      <td>17824007518</td>\n",
       "      <td>2014-04-01 00:30:00.000</td>\n",
       "      <td>Numenius arquata</td>\n",
       "      <td>8.718183</td>\n",
       "      <td>54.688633</td>\n",
       "    </tr>\n",
       "    <tr>\n",
       "      <th>2</th>\n",
       "      <td>17824007521</td>\n",
       "      <td>2014-04-01 01:00:00.000</td>\n",
       "      <td>Numenius arquata</td>\n",
       "      <td>8.717083</td>\n",
       "      <td>54.689316</td>\n",
       "    </tr>\n",
       "    <tr>\n",
       "      <th>3</th>\n",
       "      <td>17824007524</td>\n",
       "      <td>2014-04-01 01:30:00.000</td>\n",
       "      <td>Numenius arquata</td>\n",
       "      <td>8.717550</td>\n",
       "      <td>54.689316</td>\n",
       "    </tr>\n",
       "    <tr>\n",
       "      <th>4</th>\n",
       "      <td>17824007527</td>\n",
       "      <td>2014-04-01 02:00:00.000</td>\n",
       "      <td>Numenius arquata</td>\n",
       "      <td>8.717550</td>\n",
       "      <td>54.688949</td>\n",
       "    </tr>\n",
       "    <tr>\n",
       "      <th>...</th>\n",
       "      <td>...</td>\n",
       "      <td>...</td>\n",
       "      <td>...</td>\n",
       "      <td>...</td>\n",
       "      <td>...</td>\n",
       "    </tr>\n",
       "    <tr>\n",
       "      <th>84885</th>\n",
       "      <td>209288892</td>\n",
       "      <td>2010-05-05 15:00:00.000</td>\n",
       "      <td>Anas platyrhynchos</td>\n",
       "      <td>11.997500</td>\n",
       "      <td>51.403830</td>\n",
       "    </tr>\n",
       "    <tr>\n",
       "      <th>84886</th>\n",
       "      <td>209288893</td>\n",
       "      <td>2010-05-05 21:00:00.000</td>\n",
       "      <td>Anas platyrhynchos</td>\n",
       "      <td>11.997500</td>\n",
       "      <td>51.403830</td>\n",
       "    </tr>\n",
       "    <tr>\n",
       "      <th>84887</th>\n",
       "      <td>209288894</td>\n",
       "      <td>2010-05-06 06:00:00.000</td>\n",
       "      <td>Anas platyrhynchos</td>\n",
       "      <td>11.997300</td>\n",
       "      <td>51.403830</td>\n",
       "    </tr>\n",
       "    <tr>\n",
       "      <th>84888</th>\n",
       "      <td>209288895</td>\n",
       "      <td>2010-05-06 15:00:00.000</td>\n",
       "      <td>Anas platyrhynchos</td>\n",
       "      <td>11.997500</td>\n",
       "      <td>51.403830</td>\n",
       "    </tr>\n",
       "    <tr>\n",
       "      <th>84889</th>\n",
       "      <td>209288896</td>\n",
       "      <td>2010-05-06 21:00:00.000</td>\n",
       "      <td>Anas platyrhynchos</td>\n",
       "      <td>11.997500</td>\n",
       "      <td>51.403670</td>\n",
       "    </tr>\n",
       "  </tbody>\n",
       "</table>\n",
       "<p>84890 rows × 5 columns</p>\n",
       "</div>"
      ],
      "text/plain": [
       "          event-id                timestamp         animal_type  longitude  \\\n",
       "0      17824007515  2014-04-01 00:00:00.000    Numenius arquata   8.718917   \n",
       "1      17824007518  2014-04-01 00:30:00.000    Numenius arquata   8.718183   \n",
       "2      17824007521  2014-04-01 01:00:00.000    Numenius arquata   8.717083   \n",
       "3      17824007524  2014-04-01 01:30:00.000    Numenius arquata   8.717550   \n",
       "4      17824007527  2014-04-01 02:00:00.000    Numenius arquata   8.717550   \n",
       "...            ...                      ...                 ...        ...   \n",
       "84885    209288892  2010-05-05 15:00:00.000  Anas platyrhynchos  11.997500   \n",
       "84886    209288893  2010-05-05 21:00:00.000  Anas platyrhynchos  11.997500   \n",
       "84887    209288894  2010-05-06 06:00:00.000  Anas platyrhynchos  11.997300   \n",
       "84888    209288895  2010-05-06 15:00:00.000  Anas platyrhynchos  11.997500   \n",
       "84889    209288896  2010-05-06 21:00:00.000  Anas platyrhynchos  11.997500   \n",
       "\n",
       "        latitude  \n",
       "0      54.689633  \n",
       "1      54.688633  \n",
       "2      54.689316  \n",
       "3      54.689316  \n",
       "4      54.688949  \n",
       "...          ...  \n",
       "84885  51.403830  \n",
       "84886  51.403830  \n",
       "84887  51.403830  \n",
       "84888  51.403830  \n",
       "84889  51.403670  \n",
       "\n",
       "[84890 rows x 5 columns]"
      ]
     },
     "execution_count": 16,
     "metadata": {},
     "output_type": "execute_result"
    }
   ],
   "source": [
    "df"
   ]
  },
  {
   "cell_type": "code",
   "execution_count": 17,
   "id": "sacred-vault",
   "metadata": {},
   "outputs": [
    {
     "ename": "KeyError",
     "evalue": "'individual-taxon-canonical-name'",
     "output_type": "error",
     "traceback": [
      "\u001b[1;31m---------------------------------------------------------------------------\u001b[0m",
      "\u001b[1;31mKeyError\u001b[0m                                  Traceback (most recent call last)",
      "\u001b[1;32m<ipython-input-17-6863c65fd3b3>\u001b[0m in \u001b[0;36m<module>\u001b[1;34m\u001b[0m\n\u001b[1;32m----> 1\u001b[1;33m \u001b[0mdf\u001b[0m\u001b[1;33m.\u001b[0m\u001b[0mgroupby\u001b[0m\u001b[1;33m(\u001b[0m\u001b[1;34m'individual-taxon-canonical-name'\u001b[0m\u001b[1;33m)\u001b[0m\u001b[1;33m.\u001b[0m\u001b[0mcount\u001b[0m\u001b[1;33m(\u001b[0m\u001b[1;33m)\u001b[0m\u001b[1;33m\u001b[0m\u001b[1;33m\u001b[0m\u001b[0m\n\u001b[0m",
      "\u001b[1;32m~\\anaconda3\\lib\\site-packages\\pandas\\core\\frame.py\u001b[0m in \u001b[0;36mgroupby\u001b[1;34m(self, by, axis, level, as_index, sort, group_keys, squeeze, observed, dropna)\u001b[0m\n\u001b[0;32m   6715\u001b[0m         \u001b[0maxis\u001b[0m \u001b[1;33m=\u001b[0m \u001b[0mself\u001b[0m\u001b[1;33m.\u001b[0m\u001b[0m_get_axis_number\u001b[0m\u001b[1;33m(\u001b[0m\u001b[0maxis\u001b[0m\u001b[1;33m)\u001b[0m\u001b[1;33m\u001b[0m\u001b[1;33m\u001b[0m\u001b[0m\n\u001b[0;32m   6716\u001b[0m \u001b[1;33m\u001b[0m\u001b[0m\n\u001b[1;32m-> 6717\u001b[1;33m         return DataFrameGroupBy(\n\u001b[0m\u001b[0;32m   6718\u001b[0m             \u001b[0mobj\u001b[0m\u001b[1;33m=\u001b[0m\u001b[0mself\u001b[0m\u001b[1;33m,\u001b[0m\u001b[1;33m\u001b[0m\u001b[1;33m\u001b[0m\u001b[0m\n\u001b[0;32m   6719\u001b[0m             \u001b[0mkeys\u001b[0m\u001b[1;33m=\u001b[0m\u001b[0mby\u001b[0m\u001b[1;33m,\u001b[0m\u001b[1;33m\u001b[0m\u001b[1;33m\u001b[0m\u001b[0m\n",
      "\u001b[1;32m~\\anaconda3\\lib\\site-packages\\pandas\\core\\groupby\\groupby.py\u001b[0m in \u001b[0;36m__init__\u001b[1;34m(self, obj, keys, axis, level, grouper, exclusions, selection, as_index, sort, group_keys, squeeze, observed, mutated, dropna)\u001b[0m\n\u001b[0;32m    558\u001b[0m             \u001b[1;32mfrom\u001b[0m \u001b[0mpandas\u001b[0m\u001b[1;33m.\u001b[0m\u001b[0mcore\u001b[0m\u001b[1;33m.\u001b[0m\u001b[0mgroupby\u001b[0m\u001b[1;33m.\u001b[0m\u001b[0mgrouper\u001b[0m \u001b[1;32mimport\u001b[0m \u001b[0mget_grouper\u001b[0m\u001b[1;33m\u001b[0m\u001b[1;33m\u001b[0m\u001b[0m\n\u001b[0;32m    559\u001b[0m \u001b[1;33m\u001b[0m\u001b[0m\n\u001b[1;32m--> 560\u001b[1;33m             grouper, exclusions, obj = get_grouper(\n\u001b[0m\u001b[0;32m    561\u001b[0m                 \u001b[0mobj\u001b[0m\u001b[1;33m,\u001b[0m\u001b[1;33m\u001b[0m\u001b[1;33m\u001b[0m\u001b[0m\n\u001b[0;32m    562\u001b[0m                 \u001b[0mkeys\u001b[0m\u001b[1;33m,\u001b[0m\u001b[1;33m\u001b[0m\u001b[1;33m\u001b[0m\u001b[0m\n",
      "\u001b[1;32m~\\anaconda3\\lib\\site-packages\\pandas\\core\\groupby\\grouper.py\u001b[0m in \u001b[0;36mget_grouper\u001b[1;34m(obj, key, axis, level, sort, observed, mutated, validate, dropna)\u001b[0m\n\u001b[0;32m    809\u001b[0m                 \u001b[0min_axis\u001b[0m\u001b[1;33m,\u001b[0m \u001b[0mname\u001b[0m\u001b[1;33m,\u001b[0m \u001b[0mlevel\u001b[0m\u001b[1;33m,\u001b[0m \u001b[0mgpr\u001b[0m \u001b[1;33m=\u001b[0m \u001b[1;32mFalse\u001b[0m\u001b[1;33m,\u001b[0m \u001b[1;32mNone\u001b[0m\u001b[1;33m,\u001b[0m \u001b[0mgpr\u001b[0m\u001b[1;33m,\u001b[0m \u001b[1;32mNone\u001b[0m\u001b[1;33m\u001b[0m\u001b[1;33m\u001b[0m\u001b[0m\n\u001b[0;32m    810\u001b[0m             \u001b[1;32melse\u001b[0m\u001b[1;33m:\u001b[0m\u001b[1;33m\u001b[0m\u001b[1;33m\u001b[0m\u001b[0m\n\u001b[1;32m--> 811\u001b[1;33m                 \u001b[1;32mraise\u001b[0m \u001b[0mKeyError\u001b[0m\u001b[1;33m(\u001b[0m\u001b[0mgpr\u001b[0m\u001b[1;33m)\u001b[0m\u001b[1;33m\u001b[0m\u001b[1;33m\u001b[0m\u001b[0m\n\u001b[0m\u001b[0;32m    812\u001b[0m         \u001b[1;32melif\u001b[0m \u001b[0misinstance\u001b[0m\u001b[1;33m(\u001b[0m\u001b[0mgpr\u001b[0m\u001b[1;33m,\u001b[0m \u001b[0mGrouper\u001b[0m\u001b[1;33m)\u001b[0m \u001b[1;32mand\u001b[0m \u001b[0mgpr\u001b[0m\u001b[1;33m.\u001b[0m\u001b[0mkey\u001b[0m \u001b[1;32mis\u001b[0m \u001b[1;32mnot\u001b[0m \u001b[1;32mNone\u001b[0m\u001b[1;33m:\u001b[0m\u001b[1;33m\u001b[0m\u001b[1;33m\u001b[0m\u001b[0m\n\u001b[0;32m    813\u001b[0m             \u001b[1;31m# Add key to exclusions\u001b[0m\u001b[1;33m\u001b[0m\u001b[1;33m\u001b[0m\u001b[1;33m\u001b[0m\u001b[0m\n",
      "\u001b[1;31mKeyError\u001b[0m: 'individual-taxon-canonical-name'"
     ]
    }
   ],
   "source": [
    "df.groupby('individual-taxon-canonical-name').count()"
   ]
  },
  {
   "cell_type": "markdown",
   "id": "noticed-trading",
   "metadata": {},
   "source": [
    "## *Plotting map*"
   ]
  },
  {
   "cell_type": "code",
   "execution_count": null,
   "id": "proprietary-equity",
   "metadata": {},
   "outputs": [],
   "source": [
    "!pip install basemap"
   ]
  },
  {
   "cell_type": "code",
   "execution_count": null,
   "id": "funny-fishing",
   "metadata": {},
   "outputs": [],
   "source": [
    "from mpl_toolkits.basemap import Basemap\n",
    "import matplotlib.pyplot as plt\n",
    "# setup Lambert Conformal basemap.\n",
    "# set resolution=None to skip processing of boundary datasets.\n",
    "m = Basemap(width=12000000,height=9000000,projection='lcc',\n",
    "            resolution=None,lat_1=45.,lat_2=55,lat_0=50,lon_0=-107.)\n",
    "m.bluemarble()\n",
    "plt.show()"
   ]
  },
  {
   "cell_type": "code",
   "execution_count": null,
   "id": "legal-politics",
   "metadata": {},
   "outputs": [],
   "source": []
  }
 ],
 "metadata": {
  "kernelspec": {
   "display_name": "Python 3",
   "language": "python",
   "name": "python3"
  },
  "language_info": {
   "codemirror_mode": {
    "name": "ipython",
    "version": 3
   },
   "file_extension": ".py",
   "mimetype": "text/x-python",
   "name": "python",
   "nbconvert_exporter": "python",
   "pygments_lexer": "ipython3",
   "version": "3.8.3"
  }
 },
 "nbformat": 4,
 "nbformat_minor": 5
}
